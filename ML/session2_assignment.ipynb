{
 "cells": [
  {
   "cell_type": "code",
   "execution_count": 2,
   "metadata": {},
   "outputs": [
    {
     "name": "stdout",
     "output_type": "stream",
     "text": [
      "6 14\n",
      "sum 20\n",
      "Diff -8\n",
      "mult 84\n",
      "div 0.42857142857142855\n"
     ]
    }
   ],
   "source": [
    "import random as r\n",
    "a=r.randint(0,10)\n",
    "b=r.randint(0,20)\n",
    "print(a,b)\n",
    "print(\"sum\",a+b)\n",
    "print(\"Diff\",a-b)\n",
    "print(\"mult\",a*b)\n",
    "print(\"div\",a/b)\n"
   ]
  },
  {
   "cell_type": "code",
   "execution_count": 4,
   "metadata": {},
   "outputs": [
    {
     "name": "stdout",
     "output_type": "stream",
     "text": [
      "['__doc__', '__loader__', '__name__', '__package__', '__spec__', 'acos', 'acosh', 'asin', 'asinh', 'atan', 'atan2', 'atanh', 'ceil', 'copysign', 'cos', 'cosh', 'degrees', 'e', 'erf', 'erfc', 'exp', 'expm1', 'fabs', 'factorial', 'floor', 'fmod', 'frexp', 'fsum', 'gamma', 'gcd', 'hypot', 'inf', 'isclose', 'isfinite', 'isinf', 'isnan', 'ldexp', 'lgamma', 'log', 'log10', 'log1p', 'log2', 'modf', 'nan', 'pi', 'pow', 'radians', 'remainder', 'sin', 'sinh', 'sqrt', 'tan', 'tanh', 'tau', 'trunc']\n"
     ]
    }
   ],
   "source": [
    "import math\n",
    "print(dir(math))"
   ]
  },
  {
   "cell_type": "code",
   "execution_count": 16,
   "metadata": {},
   "outputs": [
    {
     "name": "stdout",
     "output_type": "stream",
     "text": [
      "sum 96\n",
      "Diff -40\n",
      "mult 1904\n",
      "div 0.4117647058823529\n",
      "remainder  28\n",
      "sqrt 5.291502622129181\n",
      "fact 304888344611713860501504000000\n",
      "pow 2.5512095460563814e+98\n",
      "sin 0.27090578830786904\n",
      "cos -0.9626058663135666\n",
      "fabs 28.0\n",
      "log 3.332204510175204\n",
      "remainder 28.0\n",
      "radians 0.4886921905584123\n"
     ]
    }
   ],
   "source": [
    "import math as m\n",
    "import random as r\n",
    "def Math(a,b):\n",
    "    print(\"sum\",a+b)\n",
    "    print(\"Diff\",a-b)\n",
    "    print(\"mult\",a*b)\n",
    "    print(\"div\",a/b) \n",
    "    print(\"remainder \",a%b)\n",
    "    print(\"sqrt\",m.sqrt(a))\n",
    "    print(\"fact\",m.factorial(a))\n",
    "    print(\"pow\",m.pow(a,b))\n",
    "    print(\"sin\",m.sin(a))\n",
    "    print(\"cos\",m.cos(a))\n",
    "    print(\"fabs\",m.fabs(a))\n",
    "    print(\"log\",m.log(a))\n",
    "    print(\"remainder\",m.remainder(a,b))\n",
    "    print(\"radians\",m.radians(a))\n",
    "arg=r.sample(range(100),k=2)\n",
    "Math(*arg)\n",
    "    "
   ]
  }
 ],
 "metadata": {
  "kernelspec": {
   "display_name": "Python 3",
   "language": "python",
   "name": "python3"
  },
  "language_info": {
   "codemirror_mode": {
    "name": "ipython",
    "version": 3
   },
   "file_extension": ".py",
   "mimetype": "text/x-python",
   "name": "python",
   "nbconvert_exporter": "python",
   "pygments_lexer": "ipython3",
   "version": "3.7.3"
  }
 },
 "nbformat": 4,
 "nbformat_minor": 2
}
