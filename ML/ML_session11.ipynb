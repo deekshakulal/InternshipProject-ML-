{
 "cells": [
  {
   "cell_type": "code",
   "execution_count": 1,
   "metadata": {},
   "outputs": [],
   "source": [
    "import tensorflow as tf"
   ]
  },
  {
   "cell_type": "code",
   "execution_count": 2,
   "metadata": {},
   "outputs": [],
   "source": [
    "from tensorflow.keras.preprocessing.image import ImageDataGenerator"
   ]
  },
  {
   "cell_type": "code",
   "execution_count": 3,
   "metadata": {},
   "outputs": [
    {
     "name": "stdout",
     "output_type": "stream",
     "text": [
      "Found 8000 images belonging to 2 classes.\n"
     ]
    }
   ],
   "source": [
    "train_datagen = ImageDataGenerator(rescale = 1.0/225,shear_range = 0.2,zoom_range = 0.2,horizontal_flip = True)\n",
    "training_set = train_datagen.flow_from_directory(r\"D:\\ML\\dataset-20200824T054050Z-001\\dataset\\training_set\",target_size = (64,64),batch_size = 32,class_mode = 'binary')"
   ]
  },
  {
   "cell_type": "code",
   "execution_count": 4,
   "metadata": {},
   "outputs": [
    {
     "name": "stdout",
     "output_type": "stream",
     "text": [
      "Found 2000 images belonging to 2 classes.\n"
     ]
    }
   ],
   "source": [
    "test_datagen = ImageDataGenerator(rescale = 1.0/225)\n",
    "testing_set = test_datagen.flow_from_directory(r\"D:\\ML\\dataset-20200824T054050Z-001\\dataset\\test_set\",target_size = (64,64),batch_size = 32,class_mode = 'binary')"
   ]
  },
  {
   "cell_type": "code",
   "execution_count": 8,
   "metadata": {},
   "outputs": [],
   "source": [
    "cnn = tf.keras.models.Sequential()"
   ]
  },
  {
   "cell_type": "code",
   "execution_count": 13,
   "metadata": {},
   "outputs": [],
   "source": [
    "cnn.add(tf.keras.layers.Conv2D(filters = 32, kernel_size = 3, activation = 'relu',input_shape = [64,64,3]))"
   ]
  },
  {
   "cell_type": "code",
   "execution_count": 14,
   "metadata": {},
   "outputs": [],
   "source": [
    "cnn.add(tf.keras.layers.MaxPool2D(pool_size = 2,strides = 2))"
   ]
  },
  {
   "cell_type": "code",
   "execution_count": 15,
   "metadata": {},
   "outputs": [],
   "source": [
    "cnn.add(tf.keras.layers.Conv2D(filters = 32, kernel_size = 3, activation = 'relu',input_shape = [64,64,3]))\n",
    "cnn.add(tf.keras.layers.MaxPool2D(pool_size = 2,strides = 2))"
   ]
  },
  {
   "cell_type": "code",
   "execution_count": 16,
   "metadata": {},
   "outputs": [],
   "source": [
    "cnn.add(tf.keras.layers.Flatten())"
   ]
  },
  {
   "cell_type": "code",
   "execution_count": 17,
   "metadata": {},
   "outputs": [],
   "source": [
    "cnn.add(tf.keras.layers.Dense(units = 128,activation = 'relu'))"
   ]
  },
  {
   "cell_type": "code",
   "execution_count": 18,
   "metadata": {},
   "outputs": [],
   "source": [
    "cnn.add(tf.keras.layers.Dense(units = 1,activation = 'sigmoid'))"
   ]
  },
  {
   "cell_type": "code",
   "execution_count": 20,
   "metadata": {},
   "outputs": [],
   "source": [
    "cnn.compile(optimizer='adam',loss = 'binary_crossentropy', metrics =['accuracy'])"
   ]
  },
  {
   "cell_type": "code",
   "execution_count": 21,
   "metadata": {},
   "outputs": [
    {
     "name": "stdout",
     "output_type": "stream",
     "text": [
      "Epoch 1/20\n",
      "250/250 [==============================] - 305s 1s/step - loss: 0.6778 - accuracy: 0.5740 - val_loss: 0.6293 - val_accuracy: 0.6505\n",
      "Epoch 2/20\n",
      "250/250 [==============================] - 26s 105ms/step - loss: 0.6029 - accuracy: 0.6764 - val_loss: 0.5673 - val_accuracy: 0.7155\n",
      "Epoch 3/20\n",
      "250/250 [==============================] - 26s 104ms/step - loss: 0.5640 - accuracy: 0.7095 - val_loss: 0.5443 - val_accuracy: 0.7295\n",
      "Epoch 4/20\n",
      "250/250 [==============================] - 26s 104ms/step - loss: 0.5190 - accuracy: 0.7425 - val_loss: 0.5086 - val_accuracy: 0.7600\n",
      "Epoch 5/20\n",
      "250/250 [==============================] - 26s 105ms/step - loss: 0.4978 - accuracy: 0.7585 - val_loss: 0.4940 - val_accuracy: 0.7690\n",
      "Epoch 6/20\n",
      "250/250 [==============================] - 26s 104ms/step - loss: 0.4866 - accuracy: 0.7620 - val_loss: 0.4823 - val_accuracy: 0.7695\n",
      "Epoch 7/20\n",
      "250/250 [==============================] - 26s 104ms/step - loss: 0.4721 - accuracy: 0.7751 - val_loss: 0.4859 - val_accuracy: 0.7695\n",
      "Epoch 8/20\n",
      "250/250 [==============================] - 26s 105ms/step - loss: 0.4556 - accuracy: 0.7840 - val_loss: 0.4641 - val_accuracy: 0.7825\n",
      "Epoch 9/20\n",
      "250/250 [==============================] - 26s 105ms/step - loss: 0.4321 - accuracy: 0.8014 - val_loss: 0.4645 - val_accuracy: 0.7935\n",
      "Epoch 10/20\n",
      "250/250 [==============================] - 26s 104ms/step - loss: 0.4242 - accuracy: 0.8052 - val_loss: 0.4536 - val_accuracy: 0.7945\n",
      "Epoch 11/20\n",
      "250/250 [==============================] - 26s 104ms/step - loss: 0.4150 - accuracy: 0.8074 - val_loss: 0.4493 - val_accuracy: 0.7965\n",
      "Epoch 12/20\n",
      "250/250 [==============================] - 26s 103ms/step - loss: 0.4097 - accuracy: 0.8119 - val_loss: 0.4664 - val_accuracy: 0.7825\n",
      "Epoch 13/20\n",
      "250/250 [==============================] - 26s 104ms/step - loss: 0.3932 - accuracy: 0.8188 - val_loss: 0.4921 - val_accuracy: 0.7770\n",
      "Epoch 14/20\n",
      "250/250 [==============================] - 26s 106ms/step - loss: 0.3871 - accuracy: 0.8205 - val_loss: 0.4499 - val_accuracy: 0.7970\n",
      "Epoch 15/20\n",
      "250/250 [==============================] - 26s 105ms/step - loss: 0.3774 - accuracy: 0.8309 - val_loss: 0.4478 - val_accuracy: 0.8010\n",
      "Epoch 16/20\n",
      "250/250 [==============================] - 26s 106ms/step - loss: 0.3674 - accuracy: 0.8314 - val_loss: 0.4798 - val_accuracy: 0.7835\n",
      "Epoch 17/20\n",
      "250/250 [==============================] - 26s 106ms/step - loss: 0.3576 - accuracy: 0.8359 - val_loss: 0.4457 - val_accuracy: 0.8105\n",
      "Epoch 18/20\n",
      "250/250 [==============================] - 27s 108ms/step - loss: 0.3483 - accuracy: 0.8453 - val_loss: 0.4689 - val_accuracy: 0.7915\n",
      "Epoch 19/20\n",
      "250/250 [==============================] - 26s 105ms/step - loss: 0.3383 - accuracy: 0.8489 - val_loss: 0.4396 - val_accuracy: 0.8125\n",
      "Epoch 20/20\n",
      "250/250 [==============================] - 27s 107ms/step - loss: 0.3316 - accuracy: 0.8534 - val_loss: 0.4630 - val_accuracy: 0.7950\n"
     ]
    },
    {
     "data": {
      "text/plain": [
       "<tensorflow.python.keras.callbacks.History at 0x16a020814f0>"
      ]
     },
     "execution_count": 21,
     "metadata": {},
     "output_type": "execute_result"
    }
   ],
   "source": [
    "cnn.fit(x = training_set,validation_data = testing_set, epochs = 20)"
   ]
  },
  {
   "cell_type": "code",
   "execution_count": 22,
   "metadata": {},
   "outputs": [],
   "source": [
    "import numpy as np\n",
    "from tensorflow.keras.preprocessing import image"
   ]
  },
  {
   "cell_type": "code",
   "execution_count": 30,
   "metadata": {},
   "outputs": [],
   "source": [
    "test_image = image.load_img(r'D:\\ML\\dataset-20200824T054050Z-001\\dataset\\single_prediction\\cat_or_dog_6.jpg',target_size = (64,64))\n",
    "test_image = image.img_to_array(test_image)\n",
    "test_image = np.expand_dims(test_image , axis = 0)\n",
    "result = cnn.predict(test_image)\n",
    "training_set.class_indices\n",
    "if result[0][0]==1:\n",
    "    prediction = 'dog'\n",
    "else:\n",
    "    prediction = 'cat'"
   ]
  },
  {
   "cell_type": "code",
   "execution_count": 31,
   "metadata": {},
   "outputs": [
    {
     "name": "stdout",
     "output_type": "stream",
     "text": [
      "The Image is dog\n"
     ]
    }
   ],
   "source": [
    "print(\"The Image is\",prediction)"
   ]
  },
  {
   "cell_type": "code",
   "execution_count": null,
   "metadata": {},
   "outputs": [],
   "source": []
  }
 ],
 "metadata": {
  "kernelspec": {
   "display_name": "Python 3",
   "language": "python",
   "name": "python3"
  },
  "language_info": {
   "codemirror_mode": {
    "name": "ipython",
    "version": 3
   },
   "file_extension": ".py",
   "mimetype": "text/x-python",
   "name": "python",
   "nbconvert_exporter": "python",
   "pygments_lexer": "ipython3",
   "version": "3.7.3"
  }
 },
 "nbformat": 4,
 "nbformat_minor": 4
}
