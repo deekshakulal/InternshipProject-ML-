{
 "cells": [
  {
   "cell_type": "code",
   "execution_count": 1,
   "metadata": {},
   "outputs": [],
   "source": [
    "import pandas\n",
    "import numpy as np\n",
    "import tensorflow as tf"
   ]
  },
  {
   "cell_type": "code",
   "execution_count": 2,
   "metadata": {},
   "outputs": [
    {
     "name": "stdout",
     "output_type": "stream",
     "text": [
      "1.14.0\n"
     ]
    }
   ],
   "source": [
    "print(tf.__version__)"
   ]
  },
  {
   "cell_type": "code",
   "execution_count": 5,
   "metadata": {},
   "outputs": [
    {
     "name": "stdout",
     "output_type": "stream",
     "text": [
      "      RowNumber  CustomerId         Surname  CreditScore Geography  Gender  \\\n",
      "0             1    15634602        Hargrave          619    France  Female   \n",
      "1             2    15647311            Hill          608     Spain  Female   \n",
      "2             3    15619304            Onio          502    France  Female   \n",
      "3             4    15701354            Boni          699    France  Female   \n",
      "4             5    15737888        Mitchell          850     Spain  Female   \n",
      "5             6    15574012             Chu          645     Spain    Male   \n",
      "6             7    15592531        Bartlett          822    France    Male   \n",
      "7             8    15656148          Obinna          376   Germany  Female   \n",
      "8             9    15792365              He          501    France    Male   \n",
      "9            10    15592389              H?          684    France    Male   \n",
      "10           11    15767821          Bearce          528    France    Male   \n",
      "11           12    15737173         Andrews          497     Spain    Male   \n",
      "12           13    15632264             Kay          476    France  Female   \n",
      "13           14    15691483            Chin          549    France  Female   \n",
      "14           15    15600882           Scott          635     Spain  Female   \n",
      "15           16    15643966         Goforth          616   Germany    Male   \n",
      "16           17    15737452           Romeo          653   Germany    Male   \n",
      "17           18    15788218       Henderson          549     Spain  Female   \n",
      "18           19    15661507         Muldrow          587     Spain    Male   \n",
      "19           20    15568982             Hao          726    France  Female   \n",
      "20           21    15577657        McDonald          732    France    Male   \n",
      "21           22    15597945        Dellucci          636     Spain  Female   \n",
      "22           23    15699309       Gerasimov          510     Spain  Female   \n",
      "23           24    15725737          Mosman          669    France    Male   \n",
      "24           25    15625047             Yen          846    France  Female   \n",
      "25           26    15738191         Maclean          577    France    Male   \n",
      "26           27    15736816           Young          756   Germany    Male   \n",
      "27           28    15700772         Nebechi          571    France    Male   \n",
      "28           29    15728693      McWilliams          574   Germany  Female   \n",
      "29           30    15656300        Lucciano          411    France    Male   \n",
      "...         ...         ...             ...          ...       ...     ...   \n",
      "9970       9971    15587133        Thompson          518    France    Male   \n",
      "9971       9972    15721377            Chou          833    France  Female   \n",
      "9972       9973    15747927           Ch'in          758    France    Male   \n",
      "9973       9974    15806455          Miller          611    France    Male   \n",
      "9974       9975    15695474          Barker          583    France    Male   \n",
      "9975       9976    15666295           Smith          610   Germany    Male   \n",
      "9976       9977    15656062         Azikiwe          637    France  Female   \n",
      "9977       9978    15579969         Mancini          683    France  Female   \n",
      "9978       9979    15703563           P'eng          774    France    Male   \n",
      "9979       9980    15692664          Diribe          677    France  Female   \n",
      "9980       9981    15719276            T'ao          741     Spain    Male   \n",
      "9981       9982    15672754        Burbidge          498   Germany    Male   \n",
      "9982       9983    15768163         Griffin          655   Germany  Female   \n",
      "9983       9984    15656710           Cocci          613    France    Male   \n",
      "9984       9985    15696175  Echezonachukwu          602   Germany    Male   \n",
      "9985       9986    15586914          Nepean          659    France    Male   \n",
      "9986       9987    15581736        Bartlett          673   Germany    Male   \n",
      "9987       9988    15588839         Mancini          606     Spain    Male   \n",
      "9988       9989    15589329         Pirozzi          775    France    Male   \n",
      "9989       9990    15605622        McMillan          841     Spain    Male   \n",
      "9990       9991    15798964      Nkemakonam          714   Germany    Male   \n",
      "9991       9992    15769959     Ajuluchukwu          597    France  Female   \n",
      "9992       9993    15657105     Chukwualuka          726     Spain    Male   \n",
      "9993       9994    15569266          Rahman          644    France    Male   \n",
      "9994       9995    15719294            Wood          800    France  Female   \n",
      "9995       9996    15606229        Obijiaku          771    France    Male   \n",
      "9996       9997    15569892       Johnstone          516    France    Male   \n",
      "9997       9998    15584532             Liu          709    France  Female   \n",
      "9998       9999    15682355       Sabbatini          772   Germany    Male   \n",
      "9999      10000    15628319          Walker          792    France  Female   \n",
      "\n",
      "      Age  Tenure    Balance  NumOfProducts  HasCrCard  IsActiveMember  \\\n",
      "0      42       2       0.00              1          1               1   \n",
      "1      41       1   83807.86              1          0               1   \n",
      "2      42       8  159660.80              3          1               0   \n",
      "3      39       1       0.00              2          0               0   \n",
      "4      43       2  125510.82              1          1               1   \n",
      "5      44       8  113755.78              2          1               0   \n",
      "6      50       7       0.00              2          1               1   \n",
      "7      29       4  115046.74              4          1               0   \n",
      "8      44       4  142051.07              2          0               1   \n",
      "9      27       2  134603.88              1          1               1   \n",
      "10     31       6  102016.72              2          0               0   \n",
      "11     24       3       0.00              2          1               0   \n",
      "12     34      10       0.00              2          1               0   \n",
      "13     25       5       0.00              2          0               0   \n",
      "14     35       7       0.00              2          1               1   \n",
      "15     45       3  143129.41              2          0               1   \n",
      "16     58       1  132602.88              1          1               0   \n",
      "17     24       9       0.00              2          1               1   \n",
      "18     45       6       0.00              1          0               0   \n",
      "19     24       6       0.00              2          1               1   \n",
      "20     41       8       0.00              2          1               1   \n",
      "21     32       8       0.00              2          1               0   \n",
      "22     38       4       0.00              1          1               0   \n",
      "23     46       3       0.00              2          0               1   \n",
      "24     38       5       0.00              1          1               1   \n",
      "25     25       3       0.00              2          0               1   \n",
      "26     36       2  136815.64              1          1               1   \n",
      "27     44       9       0.00              2          0               0   \n",
      "28     43       3  141349.43              1          1               1   \n",
      "29     29       0   59697.17              2          1               1   \n",
      "...   ...     ...        ...            ...        ...             ...   \n",
      "9970   42       7  151027.05              2          1               0   \n",
      "9971   34       3  144751.81              1          0               0   \n",
      "9972   26       4  155739.76              1          1               0   \n",
      "9973   27       7       0.00              2          1               1   \n",
      "9974   33       7  122531.86              1          1               0   \n",
      "9975   50       1  113957.01              2          1               0   \n",
      "9976   33       7  103377.81              1          1               0   \n",
      "9977   32       9       0.00              2          1               1   \n",
      "9978   40       9   93017.47              2          1               0   \n",
      "9979   58       1   90022.85              1          0               1   \n",
      "9980   35       6   74371.49              1          0               0   \n",
      "9981   42       3  152039.70              1          1               1   \n",
      "9982   46       7  137145.12              1          1               0   \n",
      "9983   40       4       0.00              1          0               0   \n",
      "9984   35       7   90602.42              2          1               1   \n",
      "9985   36       6  123841.49              2          1               0   \n",
      "9986   47       1  183579.54              2          0               1   \n",
      "9987   30       8  180307.73              2          1               1   \n",
      "9988   30       4       0.00              2          1               0   \n",
      "9989   28       4       0.00              2          1               1   \n",
      "9990   33       3   35016.60              1          1               0   \n",
      "9991   53       4   88381.21              1          1               0   \n",
      "9992   36       2       0.00              1          1               0   \n",
      "9993   28       7  155060.41              1          1               0   \n",
      "9994   29       2       0.00              2          0               0   \n",
      "9995   39       5       0.00              2          1               0   \n",
      "9996   35      10   57369.61              1          1               1   \n",
      "9997   36       7       0.00              1          0               1   \n",
      "9998   42       3   75075.31              2          1               0   \n",
      "9999   28       4  130142.79              1          1               0   \n",
      "\n",
      "      EstimatedSalary  Exited  \n",
      "0           101348.88       1  \n",
      "1           112542.58       0  \n",
      "2           113931.57       1  \n",
      "3            93826.63       0  \n",
      "4            79084.10       0  \n",
      "5           149756.71       1  \n",
      "6            10062.80       0  \n",
      "7           119346.88       1  \n",
      "8            74940.50       0  \n",
      "9            71725.73       0  \n",
      "10           80181.12       0  \n",
      "11           76390.01       0  \n",
      "12           26260.98       0  \n",
      "13          190857.79       0  \n",
      "14           65951.65       0  \n",
      "15           64327.26       0  \n",
      "16            5097.67       1  \n",
      "17           14406.41       0  \n",
      "18          158684.81       0  \n",
      "19           54724.03       0  \n",
      "20          170886.17       0  \n",
      "21          138555.46       0  \n",
      "22          118913.53       1  \n",
      "23            8487.75       0  \n",
      "24          187616.16       0  \n",
      "25          124508.29       0  \n",
      "26          170041.95       0  \n",
      "27           38433.35       0  \n",
      "28          100187.43       0  \n",
      "29           53483.21       0  \n",
      "...               ...     ...  \n",
      "9970        119377.36       0  \n",
      "9971        166472.81       0  \n",
      "9972        171552.02       0  \n",
      "9973        157474.10       0  \n",
      "9974         13549.24       0  \n",
      "9975        196526.55       1  \n",
      "9976         84419.78       0  \n",
      "9977         24991.92       0  \n",
      "9978        191608.97       0  \n",
      "9979          2988.28       0  \n",
      "9980         99595.67       0  \n",
      "9981         53445.17       1  \n",
      "9982        115146.40       1  \n",
      "9983        151325.24       0  \n",
      "9984         51695.41       0  \n",
      "9985         96833.00       0  \n",
      "9986         34047.54       0  \n",
      "9987          1914.41       0  \n",
      "9988         49337.84       0  \n",
      "9989        179436.60       0  \n",
      "9990         53667.08       0  \n",
      "9991         69384.71       1  \n",
      "9992        195192.40       0  \n",
      "9993         29179.52       0  \n",
      "9994        167773.55       0  \n",
      "9995         96270.64       0  \n",
      "9996        101699.77       0  \n",
      "9997         42085.58       1  \n",
      "9998         92888.52       1  \n",
      "9999         38190.78       0  \n",
      "\n",
      "[10000 rows x 14 columns]\n"
     ]
    }
   ],
   "source": [
    "link=r\"C:\\Users\\dell\\Documents\\pincore\\Churn_Modelling.csv\"\n",
    "dataset=pandas.read_csv(link)\n",
    "print(dataset)\n",
    "\n",
    "\n"
   ]
  },
  {
   "cell_type": "code",
   "execution_count": 6,
   "metadata": {},
   "outputs": [
    {
     "name": "stdout",
     "output_type": "stream",
     "text": [
      "[[619 'France' 'Female' ... 1 1 101348.88]\n",
      " [608 'Spain' 'Female' ... 0 1 112542.58]\n",
      " [502 'France' 'Female' ... 1 0 113931.57]\n",
      " ...\n",
      " [709 'France' 'Female' ... 0 1 42085.58]\n",
      " [772 'Germany' 'Male' ... 1 0 92888.52]\n",
      " [792 'France' 'Female' ... 1 0 38190.78]]\n",
      "[1 0 1 ... 1 1 0]\n"
     ]
    }
   ],
   "source": [
    "X=dataset.iloc[:,3:-1].values\n",
    "Y=dataset.iloc[:,-1].values\n",
    "print(X)\n",
    "print(Y)"
   ]
  },
  {
   "cell_type": "code",
   "execution_count": 7,
   "metadata": {},
   "outputs": [
    {
     "name": "stdout",
     "output_type": "stream",
     "text": [
      "[[619 'France' 0 ... 1 1 101348.88]\n",
      " [608 'Spain' 0 ... 0 1 112542.58]\n",
      " [502 'France' 0 ... 1 0 113931.57]\n",
      " ...\n",
      " [709 'France' 0 ... 0 1 42085.58]\n",
      " [772 'Germany' 1 ... 1 0 92888.52]\n",
      " [792 'France' 0 ... 1 0 38190.78]]\n"
     ]
    }
   ],
   "source": [
    "from sklearn.preprocessing import LabelEncoder\n",
    "lr = LabelEncoder()\n",
    "X[:,2] = lr.fit_transform(X[:,2])\n",
    "print(X)"
   ]
  },
  {
   "cell_type": "code",
   "execution_count": 8,
   "metadata": {},
   "outputs": [],
   "source": [
    "from sklearn.preprocessing import OneHotEncoder\n",
    "from sklearn.compose import ColumnTransformer\n",
    "ct = ColumnTransformer(transformers = [('encoder', OneHotEncoder(), [1])], remainder='passthrough')\n",
    "X = np.array(ct.fit_transform(X))"
   ]
  },
  {
   "cell_type": "code",
   "execution_count": 9,
   "metadata": {},
   "outputs": [
    {
     "name": "stdout",
     "output_type": "stream",
     "text": [
      "[[1.0 0.0 0.0 ... 1 1 101348.88]\n",
      " [0.0 0.0 1.0 ... 0 1 112542.58]\n",
      " [1.0 0.0 0.0 ... 1 0 113931.57]\n",
      " ...\n",
      " [1.0 0.0 0.0 ... 0 1 42085.58]\n",
      " [0.0 1.0 0.0 ... 1 0 92888.52]\n",
      " [1.0 0.0 0.0 ... 1 0 38190.78]]\n"
     ]
    }
   ],
   "source": [
    "print(X)"
   ]
  },
  {
   "cell_type": "code",
   "execution_count": 10,
   "metadata": {},
   "outputs": [],
   "source": [
    "from sklearn.model_selection import train_test_split\n",
    "X_train, X_test, Y_train, Y_test= train_test_split(X,Y, test_size=0.2, random_state=0)"
   ]
  },
  {
   "cell_type": "code",
   "execution_count": 11,
   "metadata": {},
   "outputs": [],
   "source": [
    "from sklearn.preprocessing import StandardScaler\n",
    "sc = StandardScaler()\n",
    "X_train = sc.fit_transform(X_train)\n",
    "X_test=sc.transform(X_test)"
   ]
  },
  {
   "cell_type": "code",
   "execution_count": 12,
   "metadata": {},
   "outputs": [],
   "source": [
    "ann = tf.keras.models.Sequential() #imitating the ANN layers"
   ]
  },
  {
   "cell_type": "code",
   "execution_count": 13,
   "metadata": {},
   "outputs": [
    {
     "name": "stdout",
     "output_type": "stream",
     "text": [
      "WARNING:tensorflow:From C:\\Users\\dell\\Anaconda3\\lib\\site-packages\\tensorflow\\python\\ops\\init_ops.py:1251: calling VarianceScaling.__init__ (from tensorflow.python.ops.init_ops) with dtype is deprecated and will be removed in a future version.\n",
      "Instructions for updating:\n",
      "Call initializer instance with the dtype argument instead of passing it to the constructor\n"
     ]
    }
   ],
   "source": [
    "ann.add(tf.keras.layers.Dense(units = 6, activation = 'relu'))  #creating the first hidden layer\n"
   ]
  },
  {
   "cell_type": "code",
   "execution_count": 14,
   "metadata": {},
   "outputs": [],
   "source": [
    "ann.add(tf.keras.layers.Dense(units = 6, activation = 'relu'))  #creating the second hidden layer\n"
   ]
  },
  {
   "cell_type": "code",
   "execution_count": 15,
   "metadata": {},
   "outputs": [],
   "source": [
    "ann.add(tf.keras.layers.Dense(units = 1, activation = 'sigmoid'))  #creating the output layer\n"
   ]
  },
  {
   "cell_type": "code",
   "execution_count": 16,
   "metadata": {},
   "outputs": [],
   "source": [
    "ann.compile(optimizer ='adam' , loss= 'binary_crossentropy', metrics = ['accuracy'])  #adam optimizer algo which optimizes error and increases accuracy level, compiling with optimizer"
   ]
  },
  {
   "cell_type": "code",
   "execution_count": 17,
   "metadata": {},
   "outputs": [
    {
     "name": "stdout",
     "output_type": "stream",
     "text": [
      "WARNING:tensorflow:From C:\\Users\\dell\\Anaconda3\\lib\\site-packages\\tensorflow\\python\\ops\\nn_impl.py:180: add_dispatch_support.<locals>.wrapper (from tensorflow.python.ops.array_ops) is deprecated and will be removed in a future version.\n",
      "Instructions for updating:\n",
      "Use tf.where in 2.0, which has the same broadcast rule as np.where\n",
      "Epoch 1/100\n",
      "8000/8000 [==============================] - 2s 292us/sample - loss: 0.6766 - acc: 0.5931\n",
      "Epoch 2/100\n",
      "8000/8000 [==============================] - 1s 74us/sample - loss: 0.4728 - acc: 0.7946\n",
      "Epoch 3/100\n",
      "8000/8000 [==============================] - 1s 76us/sample - loss: 0.4396 - acc: 0.8051\n",
      "Epoch 4/100\n",
      "8000/8000 [==============================] - ETA: 0s - loss: 0.4250 - acc: 0.814 - 1s 78us/sample - loss: 0.4276 - acc: 0.8127\n",
      "Epoch 5/100\n",
      "8000/8000 [==============================] - 1s 74us/sample - loss: 0.4194 - acc: 0.8169\n",
      "Epoch 6/100\n",
      "8000/8000 [==============================] - 1s 71us/sample - loss: 0.4119 - acc: 0.8211\n",
      "Epoch 7/100\n",
      "8000/8000 [==============================] - 1s 72us/sample - loss: 0.4021 - acc: 0.8239\n",
      "Epoch 8/100\n",
      "8000/8000 [==============================] - 1s 71us/sample - loss: 0.3905 - acc: 0.8329\n",
      "Epoch 9/100\n",
      "8000/8000 [==============================] - 1s 72us/sample - loss: 0.3792 - acc: 0.8459\n",
      "Epoch 10/100\n",
      "8000/8000 [==============================] - 1s 74us/sample - loss: 0.3700 - acc: 0.8485\n",
      "Epoch 11/100\n",
      "8000/8000 [==============================] - 1s 74us/sample - loss: 0.3637 - acc: 0.8510\n",
      "Epoch 12/100\n",
      "8000/8000 [==============================] - 1s 82us/sample - loss: 0.3589 - acc: 0.8539\n",
      "Epoch 13/100\n",
      "8000/8000 [==============================] - 1s 78us/sample - loss: 0.3550 - acc: 0.8541\n",
      "Epoch 14/100\n",
      "8000/8000 [==============================] - 1s 76us/sample - loss: 0.3523 - acc: 0.8556\n",
      "Epoch 15/100\n",
      "8000/8000 [==============================] - 1s 73us/sample - loss: 0.3506 - acc: 0.8559\n",
      "Epoch 16/100\n",
      "8000/8000 [==============================] - 1s 81us/sample - loss: 0.3490 - acc: 0.8575\n",
      "Epoch 17/100\n",
      "8000/8000 [==============================] - 1s 82us/sample - loss: 0.3475 - acc: 0.8583\n",
      "Epoch 18/100\n",
      "8000/8000 [==============================] - 1s 90us/sample - loss: 0.3466 - acc: 0.8595\n",
      "Epoch 19/100\n",
      "8000/8000 [==============================] - 1s 75us/sample - loss: 0.3455 - acc: 0.8590\n",
      "Epoch 20/100\n",
      "8000/8000 [==============================] - 1s 71us/sample - loss: 0.3447 - acc: 0.8597\n",
      "Epoch 21/100\n",
      "8000/8000 [==============================] - 1s 68us/sample - loss: 0.3438 - acc: 0.8599\n",
      "Epoch 22/100\n",
      "8000/8000 [==============================] - 1s 69us/sample - loss: 0.3434 - acc: 0.8596\n",
      "Epoch 23/100\n",
      "8000/8000 [==============================] - 1s 79us/sample - loss: 0.3431 - acc: 0.8606\n",
      "Epoch 24/100\n",
      "8000/8000 [==============================] - 1s 71us/sample - loss: 0.3421 - acc: 0.8616\n",
      "Epoch 25/100\n",
      "8000/8000 [==============================] - 1s 76us/sample - loss: 0.3426 - acc: 0.8605\n",
      "Epoch 26/100\n",
      "8000/8000 [==============================] - 1s 83us/sample - loss: 0.3419 - acc: 0.8610\n",
      "Epoch 27/100\n",
      "8000/8000 [==============================] - 1s 81us/sample - loss: 0.3413 - acc: 0.8604\n",
      "Epoch 28/100\n",
      "8000/8000 [==============================] - 1s 91us/sample - loss: 0.3411 - acc: 0.8618\n",
      "Epoch 29/100\n",
      "8000/8000 [==============================] - 1s 93us/sample - loss: 0.3404 - acc: 0.8619\n",
      "Epoch 30/100\n",
      "8000/8000 [==============================] - 1s 87us/sample - loss: 0.3407 - acc: 0.8616\n",
      "Epoch 31/100\n",
      "8000/8000 [==============================] - 1s 73us/sample - loss: 0.3402 - acc: 0.8614\n",
      "Epoch 32/100\n",
      "8000/8000 [==============================] - 1s 78us/sample - loss: 0.3399 - acc: 0.8622\n",
      "Epoch 33/100\n",
      "8000/8000 [==============================] - 1s 76us/sample - loss: 0.3401 - acc: 0.8622\n",
      "Epoch 34/100\n",
      "8000/8000 [==============================] - 1s 76us/sample - loss: 0.3396 - acc: 0.8644\n",
      "Epoch 35/100\n",
      "8000/8000 [==============================] - 1s 90us/sample - loss: 0.3393 - acc: 0.8609\n",
      "Epoch 36/100\n",
      "8000/8000 [==============================] - 1s 85us/sample - loss: 0.3393 - acc: 0.8624\n",
      "Epoch 37/100\n",
      "8000/8000 [==============================] - 1s 80us/sample - loss: 0.3391 - acc: 0.8631\n",
      "Epoch 38/100\n",
      "8000/8000 [==============================] - 1s 89us/sample - loss: 0.3391 - acc: 0.86190s - loss: 0.3170 -\n",
      "Epoch 39/100\n",
      "8000/8000 [==============================] - 1s 93us/sample - loss: 0.3383 - acc: 0.8624\n",
      "Epoch 40/100\n",
      "8000/8000 [==============================] - 1s 91us/sample - loss: 0.3385 - acc: 0.8635\n",
      "Epoch 41/100\n",
      "8000/8000 [==============================] - 1s 75us/sample - loss: 0.3382 - acc: 0.8639\n",
      "Epoch 42/100\n",
      "8000/8000 [==============================] - 1s 79us/sample - loss: 0.3382 - acc: 0.8629\n",
      "Epoch 43/100\n",
      "8000/8000 [==============================] - 1s 78us/sample - loss: 0.3380 - acc: 0.8631\n",
      "Epoch 44/100\n",
      "8000/8000 [==============================] - 1s 81us/sample - loss: 0.3373 - acc: 0.8627\n",
      "Epoch 45/100\n",
      "8000/8000 [==============================] - 1s 86us/sample - loss: 0.3371 - acc: 0.8633\n",
      "Epoch 46/100\n",
      "8000/8000 [==============================] - 1s 76us/sample - loss: 0.3376 - acc: 0.8634\n",
      "Epoch 47/100\n",
      "8000/8000 [==============================] - 1s 80us/sample - loss: 0.3363 - acc: 0.8636\n",
      "Epoch 48/100\n",
      "8000/8000 [==============================] - 1s 78us/sample - loss: 0.3371 - acc: 0.8619\n",
      "Epoch 49/100\n",
      "8000/8000 [==============================] - 1s 80us/sample - loss: 0.3368 - acc: 0.8639\n",
      "Epoch 50/100\n",
      "8000/8000 [==============================] - 1s 80us/sample - loss: 0.3362 - acc: 0.8634\n",
      "Epoch 51/100\n",
      "8000/8000 [==============================] - 1s 77us/sample - loss: 0.3366 - acc: 0.8645\n",
      "Epoch 52/100\n",
      "8000/8000 [==============================] - 1s 79us/sample - loss: 0.3363 - acc: 0.8637\n",
      "Epoch 53/100\n",
      "8000/8000 [==============================] - 1s 77us/sample - loss: 0.3361 - acc: 0.8635\n",
      "Epoch 54/100\n",
      "8000/8000 [==============================] - 1s 79us/sample - loss: 0.3360 - acc: 0.8640\n",
      "Epoch 55/100\n",
      "8000/8000 [==============================] - 1s 91us/sample - loss: 0.3359 - acc: 0.8625\n",
      "Epoch 56/100\n",
      "8000/8000 [==============================] - 1s 86us/sample - loss: 0.3355 - acc: 0.8634\n",
      "Epoch 57/100\n",
      "8000/8000 [==============================] - 1s 80us/sample - loss: 0.3356 - acc: 0.8633\n",
      "Epoch 58/100\n",
      "8000/8000 [==============================] - 1s 77us/sample - loss: 0.3352 - acc: 0.8641\n",
      "Epoch 59/100\n",
      "8000/8000 [==============================] - 1s 78us/sample - loss: 0.3351 - acc: 0.8644\n",
      "Epoch 60/100\n",
      "8000/8000 [==============================] - 1s 77us/sample - loss: 0.3353 - acc: 0.8646\n",
      "Epoch 61/100\n",
      "8000/8000 [==============================] - 1s 74us/sample - loss: 0.3346 - acc: 0.8626\n",
      "Epoch 62/100\n",
      "8000/8000 [==============================] - 1s 78us/sample - loss: 0.3347 - acc: 0.8634\n",
      "Epoch 63/100\n",
      "8000/8000 [==============================] - 1s 74us/sample - loss: 0.3347 - acc: 0.8640\n",
      "Epoch 64/100\n",
      "8000/8000 [==============================] - 1s 78us/sample - loss: 0.3344 - acc: 0.8641\n",
      "Epoch 65/100\n",
      "8000/8000 [==============================] - 1s 74us/sample - loss: 0.3344 - acc: 0.8637\n",
      "Epoch 66/100\n",
      "8000/8000 [==============================] - 1s 79us/sample - loss: 0.3346 - acc: 0.86430s - loss: 0.3311 - a\n",
      "Epoch 67/100\n",
      "8000/8000 [==============================] - 1s 73us/sample - loss: 0.3342 - acc: 0.8648\n",
      "Epoch 68/100\n",
      "8000/8000 [==============================] - 1s 75us/sample - loss: 0.3340 - acc: 0.8636\n",
      "Epoch 69/100\n",
      "8000/8000 [==============================] - 1s 77us/sample - loss: 0.3342 - acc: 0.8651\n",
      "Epoch 70/100\n",
      "8000/8000 [==============================] - 1s 78us/sample - loss: 0.3339 - acc: 0.8636\n",
      "Epoch 71/100\n",
      "8000/8000 [==============================] - 1s 80us/sample - loss: 0.3337 - acc: 0.8637\n",
      "Epoch 72/100\n",
      "8000/8000 [==============================] - 1s 82us/sample - loss: 0.3337 - acc: 0.8631\n",
      "Epoch 73/100\n",
      "8000/8000 [==============================] - 1s 87us/sample - loss: 0.3337 - acc: 0.8648\n",
      "Epoch 74/100\n",
      "8000/8000 [==============================] - 1s 74us/sample - loss: 0.3334 - acc: 0.8633\n",
      "Epoch 75/100\n",
      "8000/8000 [==============================] - ETA: 0s - loss: 0.3341 - acc: 0.864 - 1s 83us/sample - loss: 0.3333 - acc: 0.8637\n",
      "Epoch 76/100\n",
      "8000/8000 [==============================] - 1s 80us/sample - loss: 0.3336 - acc: 0.8634\n",
      "Epoch 77/100\n"
     ]
    },
    {
     "name": "stdout",
     "output_type": "stream",
     "text": [
      "8000/8000 [==============================] - 1s 85us/sample - loss: 0.3333 - acc: 0.8618\n",
      "Epoch 78/100\n",
      "8000/8000 [==============================] - 1s 74us/sample - loss: 0.3332 - acc: 0.8652\n",
      "Epoch 79/100\n",
      "8000/8000 [==============================] - 1s 74us/sample - loss: 0.3332 - acc: 0.8645\n",
      "Epoch 80/100\n",
      "8000/8000 [==============================] - 1s 73us/sample - loss: 0.3332 - acc: 0.8639\n",
      "Epoch 81/100\n",
      "8000/8000 [==============================] - 1s 71us/sample - loss: 0.3331 - acc: 0.8651\n",
      "Epoch 82/100\n",
      "8000/8000 [==============================] - 1s 73us/sample - loss: 0.3327 - acc: 0.8652\n",
      "Epoch 83/100\n",
      "8000/8000 [==============================] - 1s 74us/sample - loss: 0.3327 - acc: 0.8652\n",
      "Epoch 84/100\n",
      "8000/8000 [==============================] - 1s 75us/sample - loss: 0.3326 - acc: 0.8636\n",
      "Epoch 85/100\n",
      "8000/8000 [==============================] - 1s 74us/sample - loss: 0.3329 - acc: 0.8630\n",
      "Epoch 86/100\n",
      "8000/8000 [==============================] - 1s 72us/sample - loss: 0.3325 - acc: 0.8656\n",
      "Epoch 87/100\n",
      "8000/8000 [==============================] - 1s 73us/sample - loss: 0.3327 - acc: 0.8656\n",
      "Epoch 88/100\n",
      "8000/8000 [==============================] - 1s 77us/sample - loss: 0.3325 - acc: 0.8637\n",
      "Epoch 89/100\n",
      "8000/8000 [==============================] - 1s 74us/sample - loss: 0.3322 - acc: 0.8649\n",
      "Epoch 90/100\n",
      "8000/8000 [==============================] - 1s 78us/sample - loss: 0.3326 - acc: 0.8644\n",
      "Epoch 91/100\n",
      "8000/8000 [==============================] - 1s 84us/sample - loss: 0.3324 - acc: 0.8622\n",
      "Epoch 92/100\n",
      "8000/8000 [==============================] - ETA: 0s - loss: 0.3345 - acc: 0.862 - 1s 96us/sample - loss: 0.3323 - acc: 0.8637\n",
      "Epoch 93/100\n",
      "8000/8000 [==============================] - 1s 75us/sample - loss: 0.3324 - acc: 0.8641\n",
      "Epoch 94/100\n",
      "8000/8000 [==============================] - 1s 80us/sample - loss: 0.3324 - acc: 0.8629\n",
      "Epoch 95/100\n",
      "8000/8000 [==============================] - 1s 80us/sample - loss: 0.3322 - acc: 0.8648\n",
      "Epoch 96/100\n",
      "8000/8000 [==============================] - 1s 76us/sample - loss: 0.3322 - acc: 0.8652\n",
      "Epoch 97/100\n",
      "8000/8000 [==============================] - 1s 79us/sample - loss: 0.3322 - acc: 0.8656\n",
      "Epoch 98/100\n",
      "8000/8000 [==============================] - 1s 73us/sample - loss: 0.3320 - acc: 0.8637\n",
      "Epoch 99/100\n",
      "8000/8000 [==============================] - 1s 77us/sample - loss: 0.3321 - acc: 0.8636\n",
      "Epoch 100/100\n",
      "8000/8000 [==============================] - 1s 73us/sample - loss: 0.3318 - acc: 0.8636\n"
     ]
    },
    {
     "data": {
      "text/plain": [
       "<tensorflow.python.keras.callbacks.History at 0x280a26405f8>"
      ]
     },
     "execution_count": 17,
     "metadata": {},
     "output_type": "execute_result"
    }
   ],
   "source": [
    "ann.fit(X_train, Y_train, batch_size = 32, epochs = 100)  #epochs 100 telling 100 iterations"
   ]
  },
  {
   "cell_type": "code",
   "execution_count": 18,
   "metadata": {},
   "outputs": [
    {
     "name": "stdout",
     "output_type": "stream",
     "text": [
      "The customer will stay with the bank\n"
     ]
    }
   ],
   "source": [
    "Y_predict = ann.predict(sc.transform([[1,0,0,600,1,40,3,60000,2,1,1,50000]]))\n",
    "if(Y_predict > 0.5):\n",
    "    print(\"The customer will leave the bank\")\n",
    "else:\n",
    "    print(\"The customer will stay with the bank\")"
   ]
  },
  {
   "cell_type": "code",
   "execution_count": 19,
   "metadata": {},
   "outputs": [
    {
     "name": "stdout",
     "output_type": "stream",
     "text": [
      "[[False]\n",
      " [False]\n",
      " [False]\n",
      " ...\n",
      " [False]\n",
      " [False]\n",
      " [False]] [0 1 0 ... 0 0 0]\n"
     ]
    }
   ],
   "source": [
    "Y_predict = ann.predict(X_test)\n",
    "Y_predict = (Y_predict > 0.5)\n",
    "print(Y_predict, Y_test)"
   ]
  },
  {
   "cell_type": "code",
   "execution_count": 20,
   "metadata": {},
   "outputs": [
    {
     "name": "stdout",
     "output_type": "stream",
     "text": [
      "The accuracy level is =  86.0 %\n",
      "[[1506   89]\n",
      " [ 191  214]]\n"
     ]
    }
   ],
   "source": [
    "from sklearn.metrics import accuracy_score, confusion_matrix\n",
    "print(\"The accuracy level is = \", accuracy_score(Y_test, Y_predict)*100,\"%\")\n",
    "cm = confusion_matrix(Y_test, Y_predict)\n",
    "print(cm)"
   ]
  },
  {
   "cell_type": "code",
   "execution_count": null,
   "metadata": {},
   "outputs": [],
   "source": []
  }
 ],
 "metadata": {
  "kernelspec": {
   "display_name": "Python 3",
   "language": "python",
   "name": "python3"
  },
  "language_info": {
   "codemirror_mode": {
    "name": "ipython",
    "version": 3
   },
   "file_extension": ".py",
   "mimetype": "text/x-python",
   "name": "python",
   "nbconvert_exporter": "python",
   "pygments_lexer": "ipython3",
   "version": "3.7.3"
  }
 },
 "nbformat": 4,
 "nbformat_minor": 2
}
